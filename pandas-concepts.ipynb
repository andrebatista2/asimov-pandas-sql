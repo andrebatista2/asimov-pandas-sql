{
 "cells": [
  {
   "cell_type": "code",
   "id": "initial_id",
   "metadata": {
    "collapsed": true,
    "ExecuteTime": {
     "end_time": "2024-11-21T15:01:40.386827Z",
     "start_time": "2024-11-21T15:01:40.381086Z"
    }
   },
   "source": [
    "import pandas as pd\n",
    "import numpy as np\n",
    "from numpy.random import randn"
   ],
   "outputs": [],
   "execution_count": 15
  },
  {
   "metadata": {},
   "cell_type": "markdown",
   "source": [
    "### Utilização de Series\n",
    "\n",
    "- Series é um array unidimensional que pode armazenar qualquer tipo de dado (int, string, float, object, etc)\n",
    "- Series é composto por um array de dados e um array de labels (índices)\n",
    "- Series pode ser criado a partir de listas, arrays, dicionários, etc\n",
    "- Series pode ser acessado por índices ou labels"
   ],
   "id": "398a2a1502c0c104"
  },
  {
   "metadata": {
    "ExecuteTime": {
     "end_time": "2024-11-21T14:51:52.417424Z",
     "start_time": "2024-11-21T14:51:52.411637Z"
    }
   },
   "cell_type": "code",
   "source": [
    "labels = ['a', 'b', 'c']\n",
    "my_data = [10, 20, 30]\n",
    "\n",
    "arr = np.array(my_data)\n",
    "d = {'a': 10, 'b': 20, 'c': 30}"
   ],
   "id": "ee8798714cadc660",
   "outputs": [],
   "execution_count": 3
  },
  {
   "metadata": {
    "ExecuteTime": {
     "end_time": "2024-11-21T14:55:27.070079Z",
     "start_time": "2024-11-21T14:55:27.061764Z"
    }
   },
   "cell_type": "code",
   "source": [
    "values = pd.Series(data=my_data, index=labels)\n",
    "\n",
    "# Criando series a partir de dicionários - conversa muito bem com dicionários\n",
    "valuesDict = pd.Series(d)"
   ],
   "id": "b7275d23c007ef1e",
   "outputs": [],
   "execution_count": 8
  },
  {
   "metadata": {},
   "cell_type": "code",
   "source": [
    "ser1 = pd.Series(index=[1, 2, 3, 4], data=['USA', 'Germany', 'USSR', 'Japan'])\n",
    "\n",
    "# Selecionando valores das Series\n",
    "# ser1[1]\n",
    "ser1[[1, 2]]"
   ],
   "id": "3ef258576e4bb0ed",
   "outputs": [],
   "execution_count": null
  },
  {
   "metadata": {},
   "cell_type": "markdown",
   "source": [
    "### Utilização de DataFrames\n",
    "\n",
    "- DataFrame é uma estrutura de dados bidimensional com colunas que podem ser de diferentes tipos (int, string, float, object, etc)\n",
    "- DataFrame é composto por um conjunto de Series\n",
    "- DataFrame pode ser criado a partir de listas, arrays, dicionários, etc\n",
    "- DataFrame pode ser acessado por índices, labels ou colunas\n",
    "- DataFrame é muito utilizado para manipulação de dados"
   ],
   "id": "9aaafb45a58e1792"
  },
  {
   "metadata": {},
   "cell_type": "code",
   "source": [
    "df = pd.DataFrame(randn(5, 4), index=['A', 'B', 'C', 'D', 'E'], columns=['W', 'X', 'Y', 'Z'])\n",
    "df"
   ],
   "id": "ed7975628f87909",
   "outputs": [],
   "execution_count": null
  },
  {
   "metadata": {},
   "cell_type": "code",
   "source": [
    "valueAW = df['W']  # Retorna uma Series\n",
    "valueCols = df[['W', 'Z']]  # Retorna um DataFrame com as colunas W e Z\n",
    "valueCols"
   ],
   "id": "b936f236e58b3183",
   "outputs": [],
   "execution_count": null
  },
  {
   "metadata": {},
   "cell_type": "code",
   "source": [
    "df['new'] = df['W'] + df['Y']  # Adicionando uma nova coluna ao DataFrame, a partir da soma dos valores de 2 colunas\n",
    "df"
   ],
   "id": "b884fa9e476c59e1",
   "outputs": [],
   "execution_count": null
  },
  {
   "metadata": {},
   "cell_type": "code",
   "source": [
    "# Removendo a coluna 'new' do DataFrame. O inplace é utilizado para alterar o DataFrame original. Sem o inplace, o DataFrame original não é alterado\n",
    "df.drop('new', axis=1, inplace=True)\n",
    "df"
   ],
   "id": "b52406c50781cc97",
   "outputs": [],
   "execution_count": null
  },
  {
   "metadata": {},
   "cell_type": "code",
   "source": "df.loc['A']  # Retorna uma Series com os valores da linha A",
   "id": "e1f12bb0711f2e1c",
   "outputs": [],
   "execution_count": null
  },
  {
   "metadata": {},
   "cell_type": "code",
   "source": "df.iloc[0]  # Retorna uma Series com os valores da linha 0",
   "id": "f7a74d0f9310ae2c",
   "outputs": [],
   "execution_count": null
  },
  {
   "metadata": {},
   "cell_type": "markdown",
   "source": [
    "### Iloc e Filtros\n",
    "\n",
    "- Iloc é utilizado para acessar valores de um DataFrame a partir de índices\n",
    "- Filtros são utilizados para acessar valores de um DataFrame a partir de condições\n",
    "- Filtros podem ser compostos por múltiplas condições"
   ],
   "id": "ff32776fa862c5d8"
  },
  {
   "metadata": {},
   "cell_type": "code",
   "source": [
    "metodo_loc = df.loc[['A', 'B'], ['W', 'Y']]  # Retorna um DataFrame com as linhas A e B e as colunas W e Y\n",
    "metodo_iloc1 = df.iloc[[0, 1], [0, 2]]  # Retorna um DataFrame com as linhas 0 e 1 e as colunas 0 e 2\n",
    "\n",
    "metodo_iloc2 = df.iloc[1:4, 1:3]"
   ],
   "id": "fdae2a14589830ca",
   "outputs": [],
   "execution_count": null
  },
  {
   "metadata": {},
   "cell_type": "code",
   "source": [
    "# Filtros\n",
    "# df > 0  # Retorna um DataFrame com valores booleanos. True para valores maiores que 0 e False para valores menores que 0\n",
    "# df[df > 0]  # Retorna um DataFrame com valores maiores que 0 e NaN para valores menores que 0\n",
    "\n",
    "# df['Z'] > 0  # Retorna uma Series com valores booleanos na coluna Z. True para valores maiores que 0 e False para valores menores que 0\n",
    "df[(df['Y'] > 0) & (df['W'] > 0)] # Retorna um DataFrame com valores maiores que 0 nas colunas Y e W"
   ],
   "id": "c179b9831293ab12",
   "outputs": [],
   "execution_count": null
  },
  {
   "metadata": {},
   "cell_type": "code",
   "source": [
    "# df.columns  # Retorna as colunas do DataFrame\n",
    "# df.index  # Retorna os índices do DataFrame\n",
    "\n",
    "# df.reset_index(inplace=True) # Reseta os índices do DataFrame\n",
    "# df.set_index(\"index\", inplace=True) # Define a coluna index como índice do DataFrame\n",
    "df"
   ],
   "id": "a1ebf1c3d9648df0",
   "outputs": [],
   "execution_count": null
  },
  {
   "metadata": {},
   "cell_type": "code",
   "source": [
    "novoind = \"RS SC PR SP RJ\".split() # Cria uma lista a partir de uma string\n",
    "df['Estados'] = novoind # Adiciona uma nova coluna ao DataFrame\n",
    "df.reset_index().set_index('Estados') # Reseta os índices do DataFrame e define a coluna Estados como índice"
   ],
   "id": "c4d750043aab1b01",
   "outputs": [],
   "execution_count": null
  }
 ],
 "metadata": {
  "kernelspec": {
   "display_name": "Python 3",
   "language": "python",
   "name": "python3"
  },
  "language_info": {
   "codemirror_mode": {
    "name": "ipython",
    "version": 2
   },
   "file_extension": ".py",
   "mimetype": "text/x-python",
   "name": "python",
   "nbconvert_exporter": "python",
   "pygments_lexer": "ipython2",
   "version": "2.7.6"
  }
 },
 "nbformat": 4,
 "nbformat_minor": 5
}
